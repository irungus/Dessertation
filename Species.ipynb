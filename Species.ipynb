{
  "cells": [
    {
      "cell_type": "markdown",
      "metadata": {
        "id": "view-in-github",
        "colab_type": "text"
      },
      "source": [
        "<a href=\"https://colab.research.google.com/github/irungus/Dessertation/blob/main/Species.ipynb\" target=\"_parent\"><img src=\"https://colab.research.google.com/assets/colab-badge.svg\" alt=\"Open In Colab\"/></a>"
      ]
    },
    {
      "cell_type": "markdown",
      "source": [
        "![Strathmore Logo.png](data:image/png;base64,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)"
      ],
      "metadata": {
        "id": "Qez-GP_QCgmK"
      },
      "id": "Qez-GP_QCgmK"
    },
    {
      "cell_type": "markdown",
      "source": [
        "# Project Title"
      ],
      "metadata": {
        "id": "Bw0ENAKs73Uz"
      },
      "id": "Bw0ENAKs73Uz"
    },
    {
      "cell_type": "markdown",
      "id": "40cdea57",
      "metadata": {
        "id": "40cdea57"
      },
      "source": [
        "Optimizing agroforestry for climate resilience: A data-driven approach to mitigating environmental shocks and enhancing ecosystem stability"
      ]
    },
    {
      "cell_type": "markdown",
      "source": [
        "# Objective of the Study\n",
        "The Objective is to develop machine learning models for optimizing agroforestry systems through species identification, classification, and Carbon sequestration valuation to enhance climate change mitigation and adaptation.\n",
        "\n",
        "i.\tAssess and quantify the potential for carbon sequestration within agroforestry systems using advanced ML techniques, supporting efforts to mitigate climate change.\n",
        "\n",
        "ii.\tTo develop machine learning models for species identification and classification within agroforestry systems, enhancing biodiversity management.\n",
        "\n",
        "iii. To develop a smart decision support system that combines ecological, climate, and species data, providing actionable recommendations in real time to farmers based on climate predictions, soil data, and agroforestry performance metrics.\n"
      ],
      "metadata": {
        "id": "vy8PQi-kEIj4"
      },
      "id": "vy8PQi-kEIj4"
    },
    {
      "cell_type": "markdown",
      "source": [
        "# Introduction"
      ],
      "metadata": {
        "id": "ANEc7vBN7xai"
      },
      "id": "ANEc7vBN7xai"
    },
    {
      "cell_type": "markdown",
      "source": [
        "We will first assess and quantify the potential for carbon sequestration within agroforestry systems using advanced ML techniques, supporting efforts to mitigate climate change. This will be done by calculating the Above Ground Biomass (AGB) using the data collected from the field and existing knowledge on how to calculate the AGB.\n",
        "\n",
        "We are going to use traditional methods of calculating AGB famously know as Allometric equations and compare them with using various Machine Learning Algorithims. In short we will be comparing the allometric models to machine learning algorithms for aboveground biomass estimation in Agroforestry systems in Kenya"
      ],
      "metadata": {
        "id": "oSJysRnf7OGM"
      },
      "id": "oSJysRnf7OGM"
    },
    {
      "cell_type": "code",
      "source": [
        "#!pip install --upgrade scikit-learn"
      ],
      "metadata": {
        "id": "s85KmJRGk5FY"
      },
      "id": "s85KmJRGk5FY",
      "execution_count": null,
      "outputs": []
    },
    {
      "cell_type": "code",
      "source": [
        "#!pip install --upgrade scikit-learn xgboost"
      ],
      "metadata": {
        "id": "joggzZCElfIZ"
      },
      "id": "joggzZCElfIZ",
      "execution_count": null,
      "outputs": []
    },
    {
      "cell_type": "code",
      "source": [
        "#!pip install --upgrade xgboost"
      ],
      "metadata": {
        "id": "t55uPiZJeQ7e"
      },
      "id": "t55uPiZJeQ7e",
      "execution_count": null,
      "outputs": []
    },
    {
      "cell_type": "markdown",
      "source": [
        "# Relevant Python Libraries"
      ],
      "metadata": {
        "id": "wZxEKF2H8Ugj"
      },
      "id": "wZxEKF2H8Ugj"
    },
    {
      "cell_type": "code",
      "source": [
        "# Required packages\n",
        "import pandas as pd  # Load and preprocess data.\n",
        "import os  # Manage file paths and directories.\n",
        "import requests  # Send HTTP requests to interact with web APIs or download content from the internet.\n",
        "import io  # Provides tools for working with I/O streams.\n",
        "import matplotlib.pyplot as plt  # Create static visualizations like line plots, bar charts, and scatter plots.\n",
        "import seaborn as sns  # Create enhanced statistical data visualizations like heatmaps and pair plots.\n",
        "import plotly.express as px  # Quickly create interactive visualizations like scatter plots, line charts, and maps.\n",
        "import plotly.graph_objects as go  # Build detailed and customized interactive visualizations.\n",
        "import numpy as np  # Perform numerical operations on arrays and matrices efficiently.\n",
        "import math  # Perform basic mathematical calculations like logarithms and trigonometric functions.\n",
        "import ee  # Use Google Earth Engine for large-scale geospatial analysis and satellite data processing.\n",
        "import scipy.stats as stats  # Perform statistical functions and hypothesis testing.\n",
        "from sklearn.preprocessing import StandardScaler  # Standardize features by removing the mean and scaling to unit variance.\n",
        "from sklearn.model_selection import train_test_split  # Split data into training and testing sets for model evaluation.\n",
        "from sklearn.ensemble import RandomForestRegressor, GradientBoostingRegressor  # Use ensemble methods for regression tasks.\n",
        "from sklearn.neural_network import MLPRegressor  # Use a Multi-Layer Perceptron model for regression.\n",
        "from sklearn.svm import SVR  # Use a Support Vector Regressor for regression problems.\n",
        "from sklearn.metrics import mean_squared_error, r2_score  # Evaluate regression models using metrics like MSE and R².\n",
        "from sklearn.model_selection import GridSearchCV\n",
        "from xgboost.sklearn import XGBRegressor\n",
        "import json"
      ],
      "metadata": {
        "id": "EBB8g_nfb7xh"
      },
      "id": "EBB8g_nfb7xh",
      "execution_count": 45,
      "outputs": []
    },
    {
      "cell_type": "markdown",
      "source": [
        "# Importing data from my Github\n",
        "\n"
      ],
      "metadata": {
        "id": "ufG8XqagcnH4"
      },
      "id": "ufG8XqagcnH4"
    },
    {
      "cell_type": "code",
      "source": [
        "url = 'https://raw.githubusercontent.com/irungus/Dessertation/main/filtered_df.csv'\n",
        "df = pd.read_csv(url, on_bad_lines='skip')"
      ],
      "metadata": {
        "id": "QvDowzvabv2H"
      },
      "id": "QvDowzvabv2H",
      "execution_count": 32,
      "outputs": []
    },
    {
      "cell_type": "markdown",
      "source": [
        "# Data Exploration"
      ],
      "metadata": {
        "id": "FiZwJ0rv8hWY"
      },
      "id": "FiZwJ0rv8hWY"
    },
    {
      "cell_type": "code",
      "source": [
        "df.head()\n",
        "df.info()"
      ],
      "metadata": {
        "colab": {
          "base_uri": "https://localhost:8080/"
        },
        "id": "nZxKnIIg9ljF",
        "outputId": "f39be8eb-d391-4e6d-94bc-f35bbfeea4e6"
      },
      "id": "nZxKnIIg9ljF",
      "execution_count": 35,
      "outputs": [
        {
          "output_type": "stream",
          "name": "stdout",
          "text": [
            "<class 'pandas.core.frame.DataFrame'>\n",
            "RangeIndex: 3071 entries, 0 to 3070\n",
            "Data columns (total 24 columns):\n",
            " #   Column      Non-Null Count  Dtype  \n",
            "---  ------      --------------  -----  \n",
            " 0   FID         3071 non-null   int64  \n",
            " 1   start       3071 non-null   object \n",
            " 2   end         3071 non-null   object \n",
            " 3   Enumerator  3071 non-null   object \n",
            " 4   agf         3071 non-null   object \n",
            " 5   plotID      3071 non-null   int64  \n",
            " 6   transect    3071 non-null   int64  \n",
            " 7   County      3071 non-null   object \n",
            " 8   localname   3071 non-null   object \n",
            " 9   genus       3071 non-null   object \n",
            " 10  species     3071 non-null   object \n",
            " 11  newspecies  3071 non-null   object \n",
            " 12  dbh         3071 non-null   int64  \n",
            " 13  height      3071 non-null   int64  \n",
            " 14  canopyd     3071 non-null   int64  \n",
            " 15  latitude    3071 non-null   float64\n",
            " 16  longitude   3071 non-null   float64\n",
            " 17  altitude    3071 non-null   float64\n",
            " 18  accuracy    3071 non-null   float64\n",
            " 19  __version_  3071 non-null   object \n",
            " 20  _version_   3071 non-null   object \n",
            " 21  key         3071 non-null   object \n",
            " 22  KEY         3071 non-null   object \n",
            " 23  date        3071 non-null   object \n",
            "dtypes: float64(4), int64(6), object(14)\n",
            "memory usage: 575.9+ KB\n"
          ]
        }
      ]
    },
    {
      "cell_type": "code",
      "source": [
        "df.columns"
      ],
      "metadata": {
        "colab": {
          "base_uri": "https://localhost:8080/"
        },
        "id": "TMjAtPkbS7HL",
        "outputId": "48dd882a-8642-4f47-d141-d79c0b74d502"
      },
      "id": "TMjAtPkbS7HL",
      "execution_count": 36,
      "outputs": [
        {
          "output_type": "execute_result",
          "data": {
            "text/plain": [
              "Index(['FID', 'start', 'end', 'Enumerator', 'agf', 'plotID', 'transect',\n",
              "       'County', 'localname', 'genus', 'species', 'newspecies', 'dbh',\n",
              "       'height', 'canopyd', 'latitude', 'longitude', 'altitude', 'accuracy',\n",
              "       '__version_', '_version_', 'key', 'KEY', 'date'],\n",
              "      dtype='object')"
            ]
          },
          "metadata": {},
          "execution_count": 36
        }
      ]
    },
    {
      "cell_type": "code",
      "source": [
        "# List of columns to drop\n",
        "columns_to_drop = [\n",
        "    'start', 'end', 'Enumerator', 'localname','newspecies',  '__version_', '_version_', 'key', 'KEY', 'date'\n",
        "    ]\n",
        "\n",
        "# Drop the columns\n",
        "df = df.drop(columns=columns_to_drop, errors='ignore')"
      ],
      "metadata": {
        "id": "4cPDJ9hbTo6w"
      },
      "id": "4cPDJ9hbTo6w",
      "execution_count": 37,
      "outputs": []
    },
    {
      "cell_type": "code",
      "source": [
        "df.head()"
      ],
      "metadata": {
        "colab": {
          "base_uri": "https://localhost:8080/",
          "height": 206
        },
        "id": "D_av2gEeb-rr",
        "outputId": "10d89574-12df-435f-de12-3b06f51e2ca5"
      },
      "id": "D_av2gEeb-rr",
      "execution_count": 38,
      "outputs": [
        {
          "output_type": "execute_result",
          "data": {
            "text/plain": [
              "    FID                   agf  plotID  transect County       genus  \\\n",
              "0  6042  pasture_agroforestry      31         2  Kwale      Acacia   \n",
              "1  5988  pasture_agroforestry      30         2  Kwale  Eucalyptus   \n",
              "2  5985  pasture_agroforestry      30         2  Kwale  Eucalyptus   \n",
              "3  5982  pasture_agroforestry      30         2  Kwale  Eucalyptus   \n",
              "4  5932  pasture_agroforestry      29         2  Kwale  Eucalyptus   \n",
              "\n",
              "         species  dbh  height  canopyd  latitude  longitude  altitude  \\\n",
              "0  glandulicarpa   26     600      450 -4.537429  39.139728    50.772   \n",
              "1      robusta 1   65    1160      680 -4.522492  39.183680    -1.432   \n",
              "2      robusta 1   35     890      390 -4.522487  39.183677    -2.642   \n",
              "3      robusta 1   24     810      390 -4.522480  39.183657    -1.658   \n",
              "4  camaldulensis   65    1000      430 -4.472281  39.189929    97.522   \n",
              "\n",
              "   accuracy  \n",
              "0     0.915  \n",
              "1     0.793  \n",
              "2     0.988  \n",
              "3     0.882  \n",
              "4     1.629  "
            ],
            "text/html": [
              "\n",
              "  <div id=\"df-fe0a64ba-6ee9-4af1-a4aa-775bfb4cc45c\" class=\"colab-df-container\">\n",
              "    <div>\n",
              "<style scoped>\n",
              "    .dataframe tbody tr th:only-of-type {\n",
              "        vertical-align: middle;\n",
              "    }\n",
              "\n",
              "    .dataframe tbody tr th {\n",
              "        vertical-align: top;\n",
              "    }\n",
              "\n",
              "    .dataframe thead th {\n",
              "        text-align: right;\n",
              "    }\n",
              "</style>\n",
              "<table border=\"1\" class=\"dataframe\">\n",
              "  <thead>\n",
              "    <tr style=\"text-align: right;\">\n",
              "      <th></th>\n",
              "      <th>FID</th>\n",
              "      <th>agf</th>\n",
              "      <th>plotID</th>\n",
              "      <th>transect</th>\n",
              "      <th>County</th>\n",
              "      <th>genus</th>\n",
              "      <th>species</th>\n",
              "      <th>dbh</th>\n",
              "      <th>height</th>\n",
              "      <th>canopyd</th>\n",
              "      <th>latitude</th>\n",
              "      <th>longitude</th>\n",
              "      <th>altitude</th>\n",
              "      <th>accuracy</th>\n",
              "    </tr>\n",
              "  </thead>\n",
              "  <tbody>\n",
              "    <tr>\n",
              "      <th>0</th>\n",
              "      <td>6042</td>\n",
              "      <td>pasture_agroforestry</td>\n",
              "      <td>31</td>\n",
              "      <td>2</td>\n",
              "      <td>Kwale</td>\n",
              "      <td>Acacia</td>\n",
              "      <td>glandulicarpa</td>\n",
              "      <td>26</td>\n",
              "      <td>600</td>\n",
              "      <td>450</td>\n",
              "      <td>-4.537429</td>\n",
              "      <td>39.139728</td>\n",
              "      <td>50.772</td>\n",
              "      <td>0.915</td>\n",
              "    </tr>\n",
              "    <tr>\n",
              "      <th>1</th>\n",
              "      <td>5988</td>\n",
              "      <td>pasture_agroforestry</td>\n",
              "      <td>30</td>\n",
              "      <td>2</td>\n",
              "      <td>Kwale</td>\n",
              "      <td>Eucalyptus</td>\n",
              "      <td>robusta 1</td>\n",
              "      <td>65</td>\n",
              "      <td>1160</td>\n",
              "      <td>680</td>\n",
              "      <td>-4.522492</td>\n",
              "      <td>39.183680</td>\n",
              "      <td>-1.432</td>\n",
              "      <td>0.793</td>\n",
              "    </tr>\n",
              "    <tr>\n",
              "      <th>2</th>\n",
              "      <td>5985</td>\n",
              "      <td>pasture_agroforestry</td>\n",
              "      <td>30</td>\n",
              "      <td>2</td>\n",
              "      <td>Kwale</td>\n",
              "      <td>Eucalyptus</td>\n",
              "      <td>robusta 1</td>\n",
              "      <td>35</td>\n",
              "      <td>890</td>\n",
              "      <td>390</td>\n",
              "      <td>-4.522487</td>\n",
              "      <td>39.183677</td>\n",
              "      <td>-2.642</td>\n",
              "      <td>0.988</td>\n",
              "    </tr>\n",
              "    <tr>\n",
              "      <th>3</th>\n",
              "      <td>5982</td>\n",
              "      <td>pasture_agroforestry</td>\n",
              "      <td>30</td>\n",
              "      <td>2</td>\n",
              "      <td>Kwale</td>\n",
              "      <td>Eucalyptus</td>\n",
              "      <td>robusta 1</td>\n",
              "      <td>24</td>\n",
              "      <td>810</td>\n",
              "      <td>390</td>\n",
              "      <td>-4.522480</td>\n",
              "      <td>39.183657</td>\n",
              "      <td>-1.658</td>\n",
              "      <td>0.882</td>\n",
              "    </tr>\n",
              "    <tr>\n",
              "      <th>4</th>\n",
              "      <td>5932</td>\n",
              "      <td>pasture_agroforestry</td>\n",
              "      <td>29</td>\n",
              "      <td>2</td>\n",
              "      <td>Kwale</td>\n",
              "      <td>Eucalyptus</td>\n",
              "      <td>camaldulensis</td>\n",
              "      <td>65</td>\n",
              "      <td>1000</td>\n",
              "      <td>430</td>\n",
              "      <td>-4.472281</td>\n",
              "      <td>39.189929</td>\n",
              "      <td>97.522</td>\n",
              "      <td>1.629</td>\n",
              "    </tr>\n",
              "  </tbody>\n",
              "</table>\n",
              "</div>\n",
              "    <div class=\"colab-df-buttons\">\n",
              "\n",
              "  <div class=\"colab-df-container\">\n",
              "    <button class=\"colab-df-convert\" onclick=\"convertToInteractive('df-fe0a64ba-6ee9-4af1-a4aa-775bfb4cc45c')\"\n",
              "            title=\"Convert this dataframe to an interactive table.\"\n",
              "            style=\"display:none;\">\n",
              "\n",
              "  <svg xmlns=\"http://www.w3.org/2000/svg\" height=\"24px\" viewBox=\"0 -960 960 960\">\n",
              "    <path d=\"M120-120v-720h720v720H120Zm60-500h600v-160H180v160Zm220 220h160v-160H400v160Zm0 220h160v-160H400v160ZM180-400h160v-160H180v160Zm440 0h160v-160H620v160ZM180-180h160v-160H180v160Zm440 0h160v-160H620v160Z\"/>\n",
              "  </svg>\n",
              "    </button>\n",
              "\n",
              "  <style>\n",
              "    .colab-df-container {\n",
              "      display:flex;\n",
              "      gap: 12px;\n",
              "    }\n",
              "\n",
              "    .colab-df-convert {\n",
              "      background-color: #E8F0FE;\n",
              "      border: none;\n",
              "      border-radius: 50%;\n",
              "      cursor: pointer;\n",
              "      display: none;\n",
              "      fill: #1967D2;\n",
              "      height: 32px;\n",
              "      padding: 0 0 0 0;\n",
              "      width: 32px;\n",
              "    }\n",
              "\n",
              "    .colab-df-convert:hover {\n",
              "      background-color: #E2EBFA;\n",
              "      box-shadow: 0px 1px 2px rgba(60, 64, 67, 0.3), 0px 1px 3px 1px rgba(60, 64, 67, 0.15);\n",
              "      fill: #174EA6;\n",
              "    }\n",
              "\n",
              "    .colab-df-buttons div {\n",
              "      margin-bottom: 4px;\n",
              "    }\n",
              "\n",
              "    [theme=dark] .colab-df-convert {\n",
              "      background-color: #3B4455;\n",
              "      fill: #D2E3FC;\n",
              "    }\n",
              "\n",
              "    [theme=dark] .colab-df-convert:hover {\n",
              "      background-color: #434B5C;\n",
              "      box-shadow: 0px 1px 3px 1px rgba(0, 0, 0, 0.15);\n",
              "      filter: drop-shadow(0px 1px 2px rgba(0, 0, 0, 0.3));\n",
              "      fill: #FFFFFF;\n",
              "    }\n",
              "  </style>\n",
              "\n",
              "    <script>\n",
              "      const buttonEl =\n",
              "        document.querySelector('#df-fe0a64ba-6ee9-4af1-a4aa-775bfb4cc45c button.colab-df-convert');\n",
              "      buttonEl.style.display =\n",
              "        google.colab.kernel.accessAllowed ? 'block' : 'none';\n",
              "\n",
              "      async function convertToInteractive(key) {\n",
              "        const element = document.querySelector('#df-fe0a64ba-6ee9-4af1-a4aa-775bfb4cc45c');\n",
              "        const dataTable =\n",
              "          await google.colab.kernel.invokeFunction('convertToInteractive',\n",
              "                                                    [key], {});\n",
              "        if (!dataTable) return;\n",
              "\n",
              "        const docLinkHtml = 'Like what you see? Visit the ' +\n",
              "          '<a target=\"_blank\" href=https://colab.research.google.com/notebooks/data_table.ipynb>data table notebook</a>'\n",
              "          + ' to learn more about interactive tables.';\n",
              "        element.innerHTML = '';\n",
              "        dataTable['output_type'] = 'display_data';\n",
              "        await google.colab.output.renderOutput(dataTable, element);\n",
              "        const docLink = document.createElement('div');\n",
              "        docLink.innerHTML = docLinkHtml;\n",
              "        element.appendChild(docLink);\n",
              "      }\n",
              "    </script>\n",
              "  </div>\n",
              "\n",
              "\n",
              "<div id=\"df-b66dc7a0-3991-4bb7-8245-b6837b5879f8\">\n",
              "  <button class=\"colab-df-quickchart\" onclick=\"quickchart('df-b66dc7a0-3991-4bb7-8245-b6837b5879f8')\"\n",
              "            title=\"Suggest charts\"\n",
              "            style=\"display:none;\">\n",
              "\n",
              "<svg xmlns=\"http://www.w3.org/2000/svg\" height=\"24px\"viewBox=\"0 0 24 24\"\n",
              "     width=\"24px\">\n",
              "    <g>\n",
              "        <path d=\"M19 3H5c-1.1 0-2 .9-2 2v14c0 1.1.9 2 2 2h14c1.1 0 2-.9 2-2V5c0-1.1-.9-2-2-2zM9 17H7v-7h2v7zm4 0h-2V7h2v10zm4 0h-2v-4h2v4z\"/>\n",
              "    </g>\n",
              "</svg>\n",
              "  </button>\n",
              "\n",
              "<style>\n",
              "  .colab-df-quickchart {\n",
              "      --bg-color: #E8F0FE;\n",
              "      --fill-color: #1967D2;\n",
              "      --hover-bg-color: #E2EBFA;\n",
              "      --hover-fill-color: #174EA6;\n",
              "      --disabled-fill-color: #AAA;\n",
              "      --disabled-bg-color: #DDD;\n",
              "  }\n",
              "\n",
              "  [theme=dark] .colab-df-quickchart {\n",
              "      --bg-color: #3B4455;\n",
              "      --fill-color: #D2E3FC;\n",
              "      --hover-bg-color: #434B5C;\n",
              "      --hover-fill-color: #FFFFFF;\n",
              "      --disabled-bg-color: #3B4455;\n",
              "      --disabled-fill-color: #666;\n",
              "  }\n",
              "\n",
              "  .colab-df-quickchart {\n",
              "    background-color: var(--bg-color);\n",
              "    border: none;\n",
              "    border-radius: 50%;\n",
              "    cursor: pointer;\n",
              "    display: none;\n",
              "    fill: var(--fill-color);\n",
              "    height: 32px;\n",
              "    padding: 0;\n",
              "    width: 32px;\n",
              "  }\n",
              "\n",
              "  .colab-df-quickchart:hover {\n",
              "    background-color: var(--hover-bg-color);\n",
              "    box-shadow: 0 1px 2px rgba(60, 64, 67, 0.3), 0 1px 3px 1px rgba(60, 64, 67, 0.15);\n",
              "    fill: var(--button-hover-fill-color);\n",
              "  }\n",
              "\n",
              "  .colab-df-quickchart-complete:disabled,\n",
              "  .colab-df-quickchart-complete:disabled:hover {\n",
              "    background-color: var(--disabled-bg-color);\n",
              "    fill: var(--disabled-fill-color);\n",
              "    box-shadow: none;\n",
              "  }\n",
              "\n",
              "  .colab-df-spinner {\n",
              "    border: 2px solid var(--fill-color);\n",
              "    border-color: transparent;\n",
              "    border-bottom-color: var(--fill-color);\n",
              "    animation:\n",
              "      spin 1s steps(1) infinite;\n",
              "  }\n",
              "\n",
              "  @keyframes spin {\n",
              "    0% {\n",
              "      border-color: transparent;\n",
              "      border-bottom-color: var(--fill-color);\n",
              "      border-left-color: var(--fill-color);\n",
              "    }\n",
              "    20% {\n",
              "      border-color: transparent;\n",
              "      border-left-color: var(--fill-color);\n",
              "      border-top-color: var(--fill-color);\n",
              "    }\n",
              "    30% {\n",
              "      border-color: transparent;\n",
              "      border-left-color: var(--fill-color);\n",
              "      border-top-color: var(--fill-color);\n",
              "      border-right-color: var(--fill-color);\n",
              "    }\n",
              "    40% {\n",
              "      border-color: transparent;\n",
              "      border-right-color: var(--fill-color);\n",
              "      border-top-color: var(--fill-color);\n",
              "    }\n",
              "    60% {\n",
              "      border-color: transparent;\n",
              "      border-right-color: var(--fill-color);\n",
              "    }\n",
              "    80% {\n",
              "      border-color: transparent;\n",
              "      border-right-color: var(--fill-color);\n",
              "      border-bottom-color: var(--fill-color);\n",
              "    }\n",
              "    90% {\n",
              "      border-color: transparent;\n",
              "      border-bottom-color: var(--fill-color);\n",
              "    }\n",
              "  }\n",
              "</style>\n",
              "\n",
              "  <script>\n",
              "    async function quickchart(key) {\n",
              "      const quickchartButtonEl =\n",
              "        document.querySelector('#' + key + ' button');\n",
              "      quickchartButtonEl.disabled = true;  // To prevent multiple clicks.\n",
              "      quickchartButtonEl.classList.add('colab-df-spinner');\n",
              "      try {\n",
              "        const charts = await google.colab.kernel.invokeFunction(\n",
              "            'suggestCharts', [key], {});\n",
              "      } catch (error) {\n",
              "        console.error('Error during call to suggestCharts:', error);\n",
              "      }\n",
              "      quickchartButtonEl.classList.remove('colab-df-spinner');\n",
              "      quickchartButtonEl.classList.add('colab-df-quickchart-complete');\n",
              "    }\n",
              "    (() => {\n",
              "      let quickchartButtonEl =\n",
              "        document.querySelector('#df-b66dc7a0-3991-4bb7-8245-b6837b5879f8 button');\n",
              "      quickchartButtonEl.style.display =\n",
              "        google.colab.kernel.accessAllowed ? 'block' : 'none';\n",
              "    })();\n",
              "  </script>\n",
              "</div>\n",
              "\n",
              "    </div>\n",
              "  </div>\n"
            ],
            "application/vnd.google.colaboratory.intrinsic+json": {
              "type": "dataframe",
              "variable_name": "df",
              "summary": "{\n  \"name\": \"df\",\n  \"rows\": 3071,\n  \"fields\": [\n    {\n      \"column\": \"FID\",\n      \"properties\": {\n        \"dtype\": \"number\",\n        \"std\": 2094,\n        \"min\": 0,\n        \"max\": 7102,\n        \"num_unique_values\": 3071,\n        \"samples\": [\n          4440,\n          2494,\n          2299\n        ],\n        \"semantic_type\": \"\",\n        \"description\": \"\"\n      }\n    },\n    {\n      \"column\": \"agf\",\n      \"properties\": {\n        \"dtype\": \"category\",\n        \"num_unique_values\": 4,\n        \"samples\": [\n          \"cropland_agroforestry\",\n          \"homestead_agroforestry\",\n          \"pasture_agroforestry\"\n        ],\n        \"semantic_type\": \"\",\n        \"description\": \"\"\n      }\n    },\n    {\n      \"column\": \"plotID\",\n      \"properties\": {\n        \"dtype\": \"number\",\n        \"std\": 49,\n        \"min\": 0,\n        \"max\": 184,\n        \"num_unique_values\": 168,\n        \"samples\": [\n          54,\n          94,\n          41\n        ],\n        \"semantic_type\": \"\",\n        \"description\": \"\"\n      }\n    },\n    {\n      \"column\": \"transect\",\n      \"properties\": {\n        \"dtype\": \"number\",\n        \"std\": 1,\n        \"min\": 1,\n        \"max\": 4,\n        \"num_unique_values\": 4,\n        \"samples\": [\n          3,\n          1,\n          2\n        ],\n        \"semantic_type\": \"\",\n        \"description\": \"\"\n      }\n    },\n    {\n      \"column\": \"County\",\n      \"properties\": {\n        \"dtype\": \"category\",\n        \"num_unique_values\": 31,\n        \"samples\": [\n          \"Kakamega\",\n          \"Nyamira\",\n          \"Laikipia\"\n        ],\n        \"semantic_type\": \"\",\n        \"description\": \"\"\n      }\n    },\n    {\n      \"column\": \"genus\",\n      \"properties\": {\n        \"dtype\": \"category\",\n        \"num_unique_values\": 4,\n        \"samples\": [\n          \"Eucalyptus\",\n          \"Grevillea\",\n          \"Acacia\"\n        ],\n        \"semantic_type\": \"\",\n        \"description\": \"\"\n      }\n    },\n    {\n      \"column\": \"species\",\n      \"properties\": {\n        \"dtype\": \"category\",\n        \"num_unique_values\": 31,\n        \"samples\": [\n          \"globium\",\n          \"drepanolobium\",\n          \"globulus\"\n        ],\n        \"semantic_type\": \"\",\n        \"description\": \"\"\n      }\n    },\n    {\n      \"column\": \"dbh\",\n      \"properties\": {\n        \"dtype\": \"number\",\n        \"std\": 43,\n        \"min\": 5,\n        \"max\": 390,\n        \"num_unique_values\": 107,\n        \"samples\": [\n          210,\n          30,\n          8\n        ],\n        \"semantic_type\": \"\",\n        \"description\": \"\"\n      }\n    },\n    {\n      \"column\": \"height\",\n      \"properties\": {\n        \"dtype\": \"number\",\n        \"std\": 639,\n        \"min\": 80,\n        \"max\": 5000,\n        \"num_unique_values\": 155,\n        \"samples\": [\n          95,\n          980,\n          500\n        ],\n        \"semantic_type\": \"\",\n        \"description\": \"\"\n      }\n    },\n    {\n      \"column\": \"canopyd\",\n      \"properties\": {\n        \"dtype\": \"number\",\n        \"std\": 257,\n        \"min\": 17,\n        \"max\": 2700,\n        \"num_unique_values\": 119,\n        \"samples\": [\n          540,\n          530,\n          300\n        ],\n        \"semantic_type\": \"\",\n        \"description\": \"\"\n      }\n    },\n    {\n      \"column\": \"latitude\",\n      \"properties\": {\n        \"dtype\": \"number\",\n        \"std\": 1.1794069331029065,\n        \"min\": -4.5374288,\n        \"max\": 1.2155507,\n        \"num_unique_values\": 3061,\n        \"samples\": [\n          -0.4744219,\n          -3.3740214,\n          -0.6295497\n        ],\n        \"semantic_type\": \"\",\n        \"description\": \"\"\n      }\n    },\n    {\n      \"column\": \"longitude\",\n      \"properties\": {\n        \"dtype\": \"number\",\n        \"std\": 1.4865591610029236,\n        \"min\": 34.0221039,\n        \"max\": 39.7319136,\n        \"num_unique_values\": 3064,\n        \"samples\": [\n          36.9436868,\n          38.3440017,\n          36.9434048\n        ],\n        \"semantic_type\": \"\",\n        \"description\": \"\"\n      }\n    },\n    {\n      \"column\": \"altitude\",\n      \"properties\": {\n        \"dtype\": \"number\",\n        \"std\": 488.4073704717727,\n        \"min\": -67.6,\n        \"max\": 2482.4,\n        \"num_unique_values\": 2243,\n        \"samples\": [\n          1808.1,\n          1662.3,\n          1725.0\n        ],\n        \"semantic_type\": \"\",\n        \"description\": \"\"\n      }\n    },\n    {\n      \"column\": \"accuracy\",\n      \"properties\": {\n        \"dtype\": \"number\",\n        \"std\": 0.8454870205525946,\n        \"min\": 0.72,\n        \"max\": 5.85,\n        \"num_unique_values\": 377,\n        \"samples\": [\n          3.925,\n          3.55,\n          4.583\n        ],\n        \"semantic_type\": \"\",\n        \"description\": \"\"\n      }\n    }\n  ]\n}"
            }
          },
          "metadata": {},
          "execution_count": 38
        }
      ]
    },
    {
      "cell_type": "code",
      "source": [
        "# Authenticate Google Earth Engine\n",
        "ee.Authenticate()"
      ],
      "metadata": {
        "id": "9Ofvl0cCK4qB",
        "outputId": "b6d6542a-fdb4-4996-b8e0-57000fefa3a9",
        "colab": {
          "base_uri": "https://localhost:8080/"
        }
      },
      "id": "9Ofvl0cCK4qB",
      "execution_count": 39,
      "outputs": [
        {
          "output_type": "execute_result",
          "data": {
            "text/plain": [
              "True"
            ]
          },
          "metadata": {},
          "execution_count": 39
        }
      ]
    },
    {
      "cell_type": "code",
      "source": [
        "# initialize Google Earth Engine\n",
        "ee.Initialize(project='agfkenya')"
      ],
      "metadata": {
        "id": "c79DipCVOcuy"
      },
      "id": "c79DipCVOcuy",
      "execution_count": 40,
      "outputs": []
    },
    {
      "cell_type": "code",
      "source": [
        "df.columns"
      ],
      "metadata": {
        "colab": {
          "base_uri": "https://localhost:8080/"
        },
        "id": "WVLfyIHPFkZT",
        "outputId": "5f6f6072-db66-4d5a-a520-bf972b032363"
      },
      "id": "WVLfyIHPFkZT",
      "execution_count": null,
      "outputs": [
        {
          "output_type": "execute_result",
          "data": {
            "text/plain": [
              "Index(['sn', 'FID', 'agf', 'plotID', 'transect', 'County', 'genus', 'species',\n",
              "       'dbh', 'height', 'canopyd', 'latitude', 'longitude', 'altitude',\n",
              "       'accuracy'],\n",
              "      dtype='object')"
            ]
          },
          "metadata": {},
          "execution_count": 7
        }
      ]
    },
    {
      "cell_type": "markdown",
      "source": [
        "#  Load Sentinel-2 Image Collection\n",
        "\n",
        "Filters Sentinel-2 images for tree locations.\n",
        "\n",
        "Selects January 1, 2024 – December 31, 2024.\n",
        "\n",
        "Removes images with more than 10% cloud cover.\n",
        "\n",
        "Computes the median pixel value to reduce noise."
      ],
      "metadata": {
        "id": "kBLxR4OLUb3L"
      },
      "id": "kBLxR4OLUb3L"
    },
    {
      "cell_type": "code",
      "source": [
        "# Load Sentinel-2 imagery and filter it for the study area\n",
        "sentinel2 = (\n",
        "    ee.ImageCollection(\"COPERNICUS/S2_SR_HARMONIZED\")  # Load Sentinel-2 Surface Reflectance dataset\n",
        "    .filterBounds(ee.Geometry.MultiPoint(df[['longitude', 'latitude']].values.tolist()))  # Filter by tree locations\n",
        "    .filterDate(\"2024-01-01\", \"2024-12-31\")  # Filter images from the year 2024\n",
        "    .filter(ee.Filter.lt(\"CLOUDY_PIXEL_PERCENTAGE\", 10))  # Keep only images with less than 10% cloud cover\n",
        "    .median()  # Compute the median value per pixel over the selected time range\n",
        ")"
      ],
      "metadata": {
        "id": "3AXreuH4UjpL"
      },
      "id": "3AXreuH4UjpL",
      "execution_count": 41,
      "outputs": []
    },
    {
      "cell_type": "markdown",
      "source": [
        "# Define Function to Compute Vegetation & Water Indices\n",
        "\n",
        "Computes vegetation indices (NDVI, EVI, RDVI, etc.).\n",
        "\n",
        "Computes water indices (NDWI, LSWI, etc.).\n",
        "\n",
        "Uses Sentinel-2 band math expressions."
      ],
      "metadata": {
        "id": "wXVtAZ2YU9rK"
      },
      "id": "wXVtAZ2YU9rK"
    },
    {
      "cell_type": "code",
      "source": [],
      "metadata": {
        "id": "F7SfB4vwRhrp"
      },
      "id": "F7SfB4vwRhrp",
      "execution_count": null,
      "outputs": []
    },
    {
      "cell_type": "code",
      "source": [
        "# Function to compute vegetation and water indices\n",
        "def compute_indices(image):\n",
        "    \"\"\"Calculate multiple indices from Sentinel-2 bands.\"\"\"\n",
        "    image = image.select([\"B2\", \"B3\", \"B4\", \"B5\", \"B6\", \"B7\", \"B8\", \"B8A\", \"B9\", \"B11\", \"B12\"])  # Select Sentinel-2 bands\n",
        "\n",
        "    return image.addBands([\n",
        "        image.expression(\"(NIR - RED) / (NIR + RED)\", {\"NIR\": image.select(\"B8\"), \"RED\": image.select(\"B4\")}).rename(\"NDVI\"),\n",
        "        image.expression(\"2.5 * (NIR - RED) / (NIR + 6 * RED - 7.5 * BLUE + 1)\",\n",
        "                         {\"NIR\": image.select(\"B8\"), \"RED\": image.select(\"B4\"), \"BLUE\": image.select(\"B2\")}).rename(\"EVI\"),\n",
        "        image.expression(\"(NIR - SWIR) / (NIR + SWIR)\", {\"NIR\": image.select(\"B8\"), \"SWIR\": image.select(\"B11\")}).rename(\"NDWI\"),\n",
        "        image.expression(\"((NIR / RED) - 1) / sqrt(NIR / RED + 1)\", {\"NIR\": image.select(\"B8\"), \"RED\": image.select(\"B4\")}).rename(\"RDVI\"),\n",
        "        image.expression(\"(RE - R) / (RE + R)\", {\"RE\": image.select(\"B5\"), \"R\": image.select(\"B4\")}).rename(\"NDVIred_edge\"),\n",
        "        image.expression(\"(RE - SWIR) / (RE + SWIR)\", {\"RE\": image.select(\"B5\"), \"SWIR\": image.select(\"B11\")}).rename(\"mNDVIred_edge\"),\n",
        "        image.expression(\"NIR / RED - 1\", {\"NIR\": image.select(\"B8\"), \"RED\": image.select(\"B4\")}).rename(\"MSRred_edge\"),\n",
        "        image.expression(\"(NIR / RE) - 1\", {\"NIR\": image.select(\"B8\"), \"RE\": image.select(\"B5\")}).rename(\"CIred_edge\"),\n",
        "        image.expression(\"NIR / SWIR\", {\"NIR\": image.select(\"B8\"), \"SWIR\": image.select(\"B11\")}).rename(\"MSI\"),\n",
        "        image.expression(\"(NIR - SWIR) / (NIR + SWIR)\", {\"NIR\": image.select(\"B8\"), \"SWIR\": image.select(\"B12\")}).rename(\"LSWI\"),\n",
        "        image.expression(\"(RE2 - RE1) / (RE1 - RED)\", {\"RE2\": image.select(\"B6\"), \"RE1\": image.select(\"B5\"), \"RED\": image.select(\"B4\")}).rename(\"MTCI\"),\n",
        "        image.expression(\"(RE2 - BLUE) / (RE1 - RED)\", {\"RE2\": image.select(\"B6\"), \"RE1\": image.select(\"B5\"), \"RED\": image.select(\"B4\"), \"BLUE\": image.select(\"B2\")}).rename(\"IRECI\"),\n",
        "        image.expression(\"(R - B) / (RE2)\", {\"R\": image.select(\"B4\"), \"B\": image.select(\"B2\"), \"RE2\": image.select(\"B6\")}).rename(\"PSRI\"),\n",
        "    ])\n",
        "\n",
        "# Apply index computation\n",
        "sentinel2_indices = compute_indices(sentinel2)\n"
      ],
      "metadata": {
        "id": "-ipJbz_HU6a2"
      },
      "id": "-ipJbz_HU6a2",
      "execution_count": null,
      "outputs": []
    },
    {
      "cell_type": "code",
      "source": [
        "# Function to extract Sentinel-2 bands\n",
        "def extract_bands(image):\n",
        "    \"\"\"Select Sentinel-2 bands without computing indices.\"\"\"\n",
        "    return image.select([\"B2\", \"B3\", \"B4\", \"B5\", \"B6\", \"B7\", \"B8\", \"B8A\", \"B9\", \"B11\", \"B12\"])\n",
        "\n",
        "# Apply band extraction\n",
        "sentinel2_bands = extract_bands(sentinel2)"
      ],
      "metadata": {
        "id": "REfbJXzw_M3m"
      },
      "id": "REfbJXzw_M3m",
      "execution_count": 42,
      "outputs": []
    },
    {
      "cell_type": "markdown",
      "source": [
        "# Extract Data for Each Tree Location\n",
        "\n",
        "Loops through each tree species location in df.\n",
        "\n",
        "Uses accuracy (0-6m) as a buffer to extract values.\n",
        "\n",
        "Extracts Sentinel-2 bands and computed indices at each location."
      ],
      "metadata": {
        "id": "iLE-VtJAVRYj"
      },
      "id": "iLE-VtJAVRYj"
    },
    {
      "cell_type": "code",
      "source": [
        "import concurrent.futures\n",
        "import ee\n",
        "import csv\n",
        "\n",
        "# Function to extract bands for each tree species using buffer\n",
        "def extract_bands_for_point(row, sentinel2_bands):\n",
        "    # Create a point and buffer around it\n",
        "    point = ee.Geometry.Point([row[\"longitude\"], row[\"latitude\"]])\n",
        "    buffer = point.buffer(max(row[\"accuracy\"], 10))  # Ensure a minimum buffer of 10m\n",
        "\n",
        "    # Create a feature for this buffer\n",
        "    feature = ee.Feature(buffer).set({\n",
        "        'latitude': row['latitude'],\n",
        "        'longitude': row['longitude'],\n",
        "        'accuracy': row['accuracy']\n",
        "    })\n",
        "\n",
        "    # Sample the Sentinel-2 bands for the buffered region\n",
        "    sampled = sentinel2_bands.sampleRegions(\n",
        "        collection=ee.FeatureCollection([feature]),\n",
        "        scale=10\n",
        "    )\n",
        "\n",
        "    # Get the sampled data\n",
        "    feature_info = sampled.first().getInfo()\n",
        "\n",
        "    # Check if data exists, then return the results\n",
        "    if feature_info is not None:\n",
        "        values = feature_info['properties']\n",
        "        return values\n",
        "    else:\n",
        "        return None\n",
        "\n",
        "# Function to run extraction in parallel\n",
        "def extract_bands_parallel(df, sentinel2_bands):\n",
        "    results = []\n",
        "\n",
        "    # Use ThreadPoolExecutor to parallelize the extraction process\n",
        "    with concurrent.futures.ThreadPoolExecutor(max_workers=10) as executor:\n",
        "        # Map the rows of the dataframe to the parallel function\n",
        "        future_to_row = {executor.submit(extract_bands_for_point, row, sentinel2_bands): row for _, row in df.iterrows()}\n",
        "\n",
        "        for future in concurrent.futures.as_completed(future_to_row):\n",
        "            result = future.result()\n",
        "            if result is not None:\n",
        "                results.append(result)\n",
        "            else:\n",
        "                print(f\"No data available for location: {future_to_row[future]['latitude']}, {future_to_row[future]['longitude']}\")\n",
        "\n",
        "    return results\n",
        "\n",
        "# Function to write results to CSV\n",
        "def write_to_csv(results, filename=\"output.csv\"):\n",
        "    # If there are results, write to CSV\n",
        "    if results:\n",
        "        keys = results[0].keys()  # Extract keys from the first dictionary (used as column headers)\n",
        "\n",
        "        with open(filename, mode='w', newline='') as file:\n",
        "            writer = csv.DictWriter(file, fieldnames=keys)\n",
        "            writer.writeheader()  # Write the header row\n",
        "            writer.writerows(results)  # Write data rows\n",
        "        print(f\"Data successfully written to {filename}\")\n",
        "    else:\n",
        "        print(\"No results to write to CSV.\")\n",
        "\n",
        "# Call the function to extract bands in parallel\n",
        "results = extract_bands_parallel(df, sentinel2_bands)\n",
        "\n",
        "# Write results to CSV\n",
        "write_to_csv(results, filename=\"tree_species_bands.csv\")"
      ],
      "metadata": {
        "id": "56H8ohIAkVDu"
      },
      "id": "56H8ohIAkVDu",
      "execution_count": null,
      "outputs": []
    },
    {
      "cell_type": "markdown",
      "source": [
        "# Convert Extracted Data to DataFrame & Merge\n",
        "\n",
        "Converts extracted Sentinel-2 bands & indices into a Pandas DataFrame.\n",
        "\n",
        "Merges this with the original df.\n",
        "\n",
        "Saves the updated DataFrame (df_updated.csv)."
      ],
      "metadata": {
        "id": "W7nMWW-VVpMs"
      },
      "id": "W7nMWW-VVpMs"
    },
    {
      "cell_type": "code",
      "source": [
        "# Convert results to Pandas DataFrame\n",
        "indices_df = pd.DataFrame(results)\n",
        "\n",
        "# Merge extracted data with original df\n",
        "df = df.merge(indices_df, on=[\"latitude\", \"longitude\", \"accuracy\"], how=\"left\")\n",
        "\n",
        "# Save the updated DataFrame\n",
        "df.to_csv(\"df_updated.csv\", index=False)\n",
        "\n",
        "# Display results\n",
        "print(df.head())"
      ],
      "metadata": {
        "id": "-iebuu89VvrU"
      },
      "id": "-iebuu89VvrU",
      "execution_count": null,
      "outputs": []
    },
    {
      "cell_type": "markdown",
      "source": [
        "# Load ERA5 Temperature Data & Convert to Celsius\n",
        "Loads ERA5 Land Monthly Temperature Data (temperature_2m).\n",
        "\n",
        "Filters data for the year 2024.\n",
        "\n",
        "Uses a function to convert temperature from Kelvin to Celsius (by subtracting 273.15).\n",
        "\n",
        "Applies this function to all images in the collection."
      ],
      "metadata": {
        "id": "IKvmQBRyaVRl"
      },
      "id": "IKvmQBRyaVRl"
    },
    {
      "cell_type": "code",
      "source": [
        "# Load ERA5 Land Monthly Data for temperature at 2 meters above the surface\n",
        "era5 = (\n",
        "    ee.ImageCollection(\"ECMWF/ERA5_LAND/MONTHLY\")\n",
        "    .filterDate(\"2024-01-01\", \"2024-12-31\")  # Select data for 2024\n",
        "    .select(\"temperature_2m\")  # Select temperature band\n",
        ")\n",
        "\n",
        "# Function to convert temperature from Kelvin to Celsius\n",
        "def kelvin_to_celsius(img):\n",
        "    return img.subtract(273.15).copyProperties(img, img.propertyNames())\n",
        "\n",
        "# Apply conversion to the entire collection\n",
        "era5_celsius = era5.map(kelvin_to_celsius)\n"
      ],
      "metadata": {
        "id": "HXqikGfhZUFH"
      },
      "id": "HXqikGfhZUFH",
      "execution_count": null,
      "outputs": []
    },
    {
      "cell_type": "markdown",
      "source": [
        "# Extract Temperature Features for Each Tree Location"
      ],
      "metadata": {
        "id": "FayjLKBDaaqX"
      },
      "id": "FayjLKBDaaqX"
    },
    {
      "cell_type": "code",
      "source": [
        "# Create a list to store temperature statistics\n",
        "temp_results = []\n",
        "\n",
        "# Loop through each tree's location in df\n",
        "for _, row in df.iterrows():\n",
        "    point = ee.Geometry.Point([row[\"longitude\"], row[\"latitude\"]])  # Get tree coordinates\n",
        "\n",
        "    # Extract temperature data for the point\n",
        "    ts = era5_celsius.getRegion(point, scale=1000).getInfo()\n",
        "\n",
        "    # Extract temperature values (ignoring None values)\n",
        "    temps = [entry[4] for entry in ts[1:] if entry[4] is not None]\n",
        "\n",
        "    # Compute statistics only if data is available\n",
        "    if temps:\n",
        "        temp_results.append({\n",
        "            \"latitude\": row[\"latitude\"],\n",
        "            \"longitude\": row[\"longitude\"],\n",
        "            \"Temp_mean\": np.mean(temps),\n",
        "            \"Temp_max\": np.max(temps),\n",
        "            \"Temp_min\": np.min(temps),\n",
        "            \"Temp_skew\": pd.Series(temps).skew(),\n",
        "            \"Temp_kurtosis\": pd.Series(temps).kurtosis(),\n",
        "        })\n",
        "# Convert the list to a Pandas DataFrame\n",
        "temp_df = pd.DataFrame(temp_results)\n",
        "# Merge temperature features into the main DataFrame using latitude & longitude\n",
        "df = df.merge(temp_df, on=[\"latitude\", \"longitude\"], how=\"left\")\n",
        "# Save the updated DataFrame with all extracted features\n",
        "df.to_csv(\"tree_species_with_temperature.csv\", index=False)\n",
        "\n",
        "# Display the first few rows to verify\n",
        "print(df.head())"
      ],
      "metadata": {
        "id": "TEUmNKSKapqD"
      },
      "id": "TEUmNKSKapqD",
      "execution_count": null,
      "outputs": []
    },
    {
      "cell_type": "code",
      "source": [
        "# Load ERA5 Precipitation Data\n",
        "era5_precip = (\n",
        "    ee.ImageCollection(\"ECMWF/ERA5_LAND/MONTHLY\")\n",
        "    .filterDate(\"2024-01-01\", \"2024-12-31\")  # Adjust date range\n",
        "    .select(\"total_precipitation\")  # Precipitation variable\n",
        ")\n",
        "\n",
        "# Load Elevation Data (SRTM Digital Elevation Model)\n",
        "elevation = ee.Image(\"USGS/SRTMGL1_003\").select(\"elevation\")\n",
        "\n",
        "# Load Water Occurrence Data (JRC Global Surface Water)\n",
        "water = ee.Image(\"JRC/GSW1_4/GlobalSurfaceWater\").select(\"occurrence\")  # Water occurrence % (0-100)\n",
        "\n",
        "# Create a list to store precipitation statistics\n",
        "precip_results = []\n",
        "\n",
        "# Loop through each tree's location in df\n",
        "for _, row in df.iterrows():\n",
        "    point = ee.Geometry.Point([row[\"longitude\"], row[\"latitude\"]])  # Get tree coordinates\n",
        "\n",
        "    # Extract precipitation data for the point\n",
        "    ts = era5_precip.getRegion(point, scale=1000).getInfo()\n",
        "\n",
        "    # Extract precipitation values (ignoring None values)\n",
        "    precip_values = [entry[4] for entry in ts[1:] if entry[4] is not None]\n",
        "\n",
        "    # Compute statistics only if data is available\n",
        "    if precip_values:\n",
        "        precip_results.append({\n",
        "            \"latitude\": row[\"latitude\"],\n",
        "            \"longitude\": row[\"longitude\"],\n",
        "            \"Precip_mean\": np.mean(precip_values),\n",
        "            \"Precip_max\": np.max(precip_values),\n",
        "            \"Precip_min\": np.min(precip_values),\n",
        "            \"Precip_skew\": pd.Series(precip_values).skew(),\n",
        "            \"Precip_kurtosis\": pd.Series(precip_values).kurtosis(),\n",
        "        })\n",
        "# Create a list to store elevation results\n",
        "elevation_results = []\n",
        "\n",
        "# Loop through each location to extract elevation\n",
        "for _, row in df.iterrows():\n",
        "    point = ee.Geometry.Point([row[\"longitude\"], row[\"latitude\"]])  # Get coordinates\n",
        "\n",
        "    # Extract elevation value\n",
        "    elev_value = elevation.sample(point, scale=30).first().get(\"elevation\").getInfo()\n",
        "\n",
        "    elevation_results.append({\n",
        "        \"latitude\": row[\"latitude\"],\n",
        "        \"longitude\": row[\"longitude\"],\n",
        "        \"Elevation\": elev_value\n",
        "    })\n",
        "# Create a list to store water occurrence results\n",
        "water_results = []\n",
        "\n",
        "# Loop through each location to extract water occurrence\n",
        "for _, row in df.iterrows():\n",
        "    point = ee.Geometry.Point([row[\"longitude\"], row[\"latitude\"]])  # Get coordinates\n",
        "\n",
        "    # Extract water occurrence percentage\n",
        "    water_value = water.sample(point, scale=30).first().get(\"occurrence\").getInfo()\n",
        "\n",
        "    water_results.append({\n",
        "        \"latitude\": row[\"latitude\"],\n",
        "        \"longitude\": row[\"longitude\"],\n",
        "        \"Water_mean\": water_value\n",
        "    })\n",
        "# Convert extracted feature lists to Pandas DataFrames\n",
        "precip_df = pd.DataFrame(precip_results)\n",
        "elev_df = pd.DataFrame(elevation_results)\n",
        "water_df = pd.DataFrame(water_results)\n",
        "\n",
        "# Merge with main DataFrame\n",
        "df = df.merge(precip_df, on=[\"latitude\", \"longitude\"], how=\"left\")\n",
        "df = df.merge(elev_df, on=[\"latitude\", \"longitude\"], how=\"left\")\n",
        "df = df.merge(water_df, on=[\"latitude\", \"longitude\"], how=\"left\")\n",
        "\n",
        "# Save the updated DataFrame with all extracted features\n",
        "df.to_csv(\"tree_species_with_environmental_factors.csv\", index=False)\n",
        "\n",
        "# Display the first few rows\n",
        "print(df.head())\n"
      ],
      "metadata": {
        "id": "VMd_Yl3VcAae"
      },
      "id": "VMd_Yl3VcAae",
      "execution_count": null,
      "outputs": []
    },
    {
      "cell_type": "markdown",
      "source": [
        "# Maachine Learning Models\n",
        "## Random Forest\n"
      ],
      "metadata": {
        "id": "AMqtjD7fSRc6"
      },
      "id": "AMqtjD7fSRc6"
    },
    {
      "cell_type": "code",
      "source": [
        "import numpy as np\n",
        "import pandas as pd\n",
        "from sklearn.ensemble import RandomForestRegressor\n",
        "from sklearn.model_selection import GridSearchCV, train_test_split, cross_val_score\n",
        "from sklearn.metrics import mean_squared_error, r2_score\n",
        "\n",
        "# Function to perform hyperparameter tuning using 5-fold cross-validation\n",
        "def tune_random_forest(X_train, y_train):\n",
        "    param_grid = {\n",
        "        \"n_estimators\": [50, 100, 200],\n",
        "        \"max_depth\": [None, 10, 20],\n",
        "        \"min_samples_split\": [2, 5, 10],\n",
        "        \"min_samples_leaf\": [1, 2, 4],\n",
        "        \"max_features\": [\"sqrt\", \"log2\", 0.5],\n",
        "        \"bootstrap\": [True]\n",
        "    }\n",
        "\n",
        "    grid_search = GridSearchCV(\n",
        "        RandomForestRegressor(random_state=42, n_jobs=-1),\n",
        "        param_grid,\n",
        "        cv=5,\n",
        "        scoring=\"neg_mean_squared_error\",\n",
        "        n_jobs=-1,\n",
        "        verbose=1\n",
        "    )\n",
        "\n",
        "    grid_search.fit(X_train, y_train)\n",
        "    return grid_search.best_estimator_, grid_search.best_params_\n",
        "\n",
        "# Loop through each species and apply model\n",
        "for species, group in acacia_df_cleaned_agb.groupby('genus_species'):\n",
        "    X = group[['dbh', 'height_m']]\n",
        "    y = group['AGB']\n",
        "\n",
        "    # Split data into 80% training and 20% test\n",
        "    X_train, X_test, y_train, y_test = train_test_split(X, y, test_size=0.2, random_state=42)\n",
        "\n",
        "    # Tune and train Random Forest using the training dataset\n",
        "    rf_model, rf_params = tune_random_forest(X_train, y_train)\n",
        "\n",
        "    # 5-Fold Cross-Validation Evaluation (for stability)\n",
        "    rmse_cv_scores = np.sqrt(-cross_val_score(rf_model, X_train, y_train, cv=5, scoring=\"neg_mean_squared_error\"))\n",
        "    r2_cv_scores = cross_val_score(rf_model, X_train, y_train, cv=5, scoring=\"r2\")\n",
        "\n",
        "    mean_rmse_cv = np.mean(rmse_cv_scores)\n",
        "    mean_r2_cv = np.mean(r2_cv_scores)\n",
        "\n",
        "    # Test Set Evaluation (for generalization)\n",
        "    rf_preds_test = rf_model.predict(X_test)\n",
        "    rmse_test = np.sqrt(mean_squared_error(y_test, rf_preds_test))\n",
        "    r2_test = r2_score(y_test, rf_preds_test)\n",
        "\n",
        "    # Print results\n",
        "    print(f\"Species: {species}\")\n",
        "    print(f\" 5-Fold CV Mean RMSE: {mean_rmse_cv:.4f}\")\n",
        "    print(f\" 5-Fold CV Mean R²: {mean_r2_cv:.4f}\")\n",
        "    print(f\" Test Set RMSE: {rmse_test:.4f}\")\n",
        "    print(f\" Test Set R²: {r2_test:.4f}\")\n",
        "    print(f\"🏆 Best Hyperparameters: {rf_params}\")\n",
        "    print(\"-\" * 50)\n",
        "\n",
        "    # Store predictions safely\n",
        "    acacia_df_cleaned_agb.loc[group.index, 'RF_Predicted_AGB'] = rf_model.predict(X)\n",
        "\n",
        "print(\"5-fold cross-validation complete, predictions added.\")\n"
      ],
      "metadata": {
        "colab": {
          "base_uri": "https://localhost:8080/"
        },
        "id": "P8Zw-yoh8k7k",
        "outputId": "46f61309-96c1-44ec-d707-1c5e29020214"
      },
      "id": "P8Zw-yoh8k7k",
      "execution_count": null,
      "outputs": [
        {
          "output_type": "stream",
          "name": "stdout",
          "text": [
            "Fitting 5 folds for each of 243 candidates, totalling 1215 fits\n",
            "Species: Acacia drepanolobium\n",
            " 5-Fold CV Mean RMSE: 180.5171\n",
            " 5-Fold CV Mean R²: 0.5707\n",
            " Test Set RMSE: 48.0339\n",
            " Test Set R²: 0.9647\n",
            "🏆 Best Hyperparameters: {'bootstrap': True, 'max_depth': 10, 'max_features': 'sqrt', 'min_samples_leaf': 1, 'min_samples_split': 2, 'n_estimators': 50}\n",
            "--------------------------------------------------\n",
            "Fitting 5 folds for each of 243 candidates, totalling 1215 fits\n",
            "Species: Acacia mearnsii\n",
            " 5-Fold CV Mean RMSE: 785.3072\n",
            " 5-Fold CV Mean R²: 0.6645\n",
            " Test Set RMSE: 139.5979\n",
            " Test Set R²: 0.9845\n",
            "🏆 Best Hyperparameters: {'bootstrap': True, 'max_depth': None, 'max_features': 'sqrt', 'min_samples_leaf': 1, 'min_samples_split': 5, 'n_estimators': 50}\n",
            "--------------------------------------------------\n",
            "Fitting 5 folds for each of 243 candidates, totalling 1215 fits\n",
            "Species: Acacia mellifera\n",
            " 5-Fold CV Mean RMSE: 452.2183\n",
            " 5-Fold CV Mean R²: 0.6401\n",
            " Test Set RMSE: 108.5210\n",
            " Test Set R²: 0.7431\n",
            "🏆 Best Hyperparameters: {'bootstrap': True, 'max_depth': None, 'max_features': 'sqrt', 'min_samples_leaf': 1, 'min_samples_split': 2, 'n_estimators': 50}\n",
            "--------------------------------------------------\n",
            "Fitting 5 folds for each of 243 candidates, totalling 1215 fits\n",
            "Species: Acacia nilotica\n",
            " 5-Fold CV Mean RMSE: 320.5697\n",
            " 5-Fold CV Mean R²: 0.8672\n",
            " Test Set RMSE: 38.7483\n",
            " Test Set R²: 0.9525\n",
            "🏆 Best Hyperparameters: {'bootstrap': True, 'max_depth': None, 'max_features': 'sqrt', 'min_samples_leaf': 1, 'min_samples_split': 2, 'n_estimators': 200}\n",
            "--------------------------------------------------\n",
            "Fitting 5 folds for each of 243 candidates, totalling 1215 fits\n",
            "Species: Acacia tortilis\n",
            " 5-Fold CV Mean RMSE: 895.6853\n",
            " 5-Fold CV Mean R²: 0.8495\n",
            " Test Set RMSE: 137.8830\n",
            " Test Set R²: 0.9901\n",
            "🏆 Best Hyperparameters: {'bootstrap': True, 'max_depth': None, 'max_features': 'log2', 'min_samples_leaf': 1, 'min_samples_split': 2, 'n_estimators': 50}\n",
            "--------------------------------------------------\n",
            "Fitting 5 folds for each of 243 candidates, totalling 1215 fits\n",
            "Species: Acacia xanthophloea\n",
            " 5-Fold CV Mean RMSE: 1154.4938\n",
            " 5-Fold CV Mean R²: 0.9110\n",
            " Test Set RMSE: 1488.4237\n",
            " Test Set R²: 0.8003\n",
            "🏆 Best Hyperparameters: {'bootstrap': True, 'max_depth': None, 'max_features': 'sqrt', 'min_samples_leaf': 1, 'min_samples_split': 2, 'n_estimators': 50}\n",
            "--------------------------------------------------\n",
            "5-fold cross-validation complete, predictions added.\n"
          ]
        }
      ]
    },
    {
      "cell_type": "markdown",
      "source": [
        "## Gradient Boosting (GB)"
      ],
      "metadata": {
        "id": "QPALjUprY21O"
      },
      "id": "QPALjUprY21O"
    },
    {
      "cell_type": "code",
      "source": [
        "import numpy as np\n",
        "import pandas as pd\n",
        "from sklearn.model_selection import GridSearchCV, cross_val_score, train_test_split\n",
        "from sklearn.ensemble import GradientBoostingRegressor\n",
        "from sklearn.metrics import mean_squared_error, r2_score\n",
        "\n",
        "# Function to perform hyperparameter tuning with 5-fold cross-validation\n",
        "def tune_gradient_boosting(X_train, y_train):\n",
        "    param_grid = {\n",
        "        \"n_estimators\": [100, 200],\n",
        "        \"learning_rate\": [0.01, 0.1],\n",
        "        \"max_depth\": [3, 5],\n",
        "        \"min_samples_split\": [2, 5],\n",
        "        \"min_samples_leaf\": [1, 2],\n",
        "        \"max_features\": [\"sqrt\", \"log2\"],\n",
        "        \"subsample\": [0.8, 1.0]\n",
        "    }\n",
        "\n",
        "    grid_search = GridSearchCV(\n",
        "        GradientBoostingRegressor(random_state=42),\n",
        "        param_grid,\n",
        "        cv=5,  # 5-fold cross-validation\n",
        "        scoring=\"neg_mean_squared_error\",\n",
        "        n_jobs=-1\n",
        "    )\n",
        "\n",
        "    grid_search.fit(X_train, y_train)\n",
        "    return grid_search.best_estimator_, grid_search.best_params_\n",
        "\n",
        "# Loop through each species\n",
        "for species, group in acacia_df_cleaned_agb.groupby('genus_species'):\n",
        "    X = group[['dbh', 'height_m']]\n",
        "    y = group['AGB']\n",
        "\n",
        "    # Split data into 80% training and 20% test\n",
        "    X_train, X_test, y_train, y_test = train_test_split(X, y, test_size=0.2, random_state=42)\n",
        "\n",
        "    # Tune and train Gradient Boosting using the training dataset\n",
        "    gb_model, gb_params = tune_gradient_boosting(X_train, y_train)\n",
        "\n",
        "    # Evaluate the model with 5-fold cross-validation using the training dataset\n",
        "    rmse_scores = np.sqrt(-cross_val_score(gb_model, X_train, y_train, cv=5, scoring=\"neg_mean_squared_error\"))\n",
        "    r2_scores = cross_val_score(gb_model, X_train, y_train, cv=5, scoring=\"r2\")\n",
        "\n",
        "    # Compute mean RMSE and R² from cross-validation\n",
        "    mean_rmse = np.mean(rmse_scores)\n",
        "    mean_r2 = np.mean(r2_scores)\n",
        "\n",
        "    # Compute metrics on the test set (for evaluation)\n",
        "    gb_preds_test = gb_model.predict(X_test)\n",
        "    rmse_test = np.sqrt(mean_squared_error(y_test, gb_preds_test))\n",
        "    r2_test = r2_score(y_test, gb_preds_test)\n",
        "\n",
        "    # Print mean RMSE, mean R², and best hyperparameters\n",
        "    print(f\"Species: {species}\")\n",
        "    print(f\"Mean RMSE (5-Fold CV): {mean_rmse:.4f}\")\n",
        "    print(f\"Mean R² (5-Fold CV): {mean_r2:.4f}\")\n",
        "    print(f\"Test Set RMSE: {rmse_test:.4f}\")\n",
        "    print(f\"Test Set R² : {r2_test:.4f}\")\n",
        "    print(f\"Best Hyperparameters: {gb_params}\")  # Print best hyperparameters\n",
        "    print(\"-\" * 50)\n",
        "\n",
        "    # Make predictions for the entire group (using the trained model)\n",
        "    gb_preds = gb_model.predict(X)  # Predict on the entire dataset (not just the test set)\n",
        "\n",
        "    # Attach predictions to the original dataframe\n",
        "    acacia_df_cleaned_agb.loc[group.index, 'GB_Predicted_AGB'] = gb_preds\n",
        "\n",
        "print(\"5-fold cross-validation complete and predictions added.\")"
      ],
      "metadata": {
        "colab": {
          "base_uri": "https://localhost:8080/"
        },
        "id": "fv-xYn0HB2xs",
        "outputId": "d9369afa-867d-4800-b9f3-2850e51b3abb"
      },
      "id": "fv-xYn0HB2xs",
      "execution_count": null,
      "outputs": [
        {
          "output_type": "stream",
          "name": "stdout",
          "text": [
            "Species: Acacia drepanolobium\n",
            "Mean RMSE (5-Fold CV): 143.4641\n",
            "Mean R² (5-Fold CV): 0.7714\n",
            "Test Set RMSE: 35.2110\n",
            "Test Set R² : 0.9810\n",
            "Best Hyperparameters: {'learning_rate': 0.1, 'max_depth': 3, 'max_features': 'sqrt', 'min_samples_leaf': 2, 'min_samples_split': 5, 'n_estimators': 200, 'subsample': 0.8}\n",
            "--------------------------------------------------\n",
            "Species: Acacia mearnsii\n",
            "Mean RMSE (5-Fold CV): 671.2635\n",
            "Mean R² (5-Fold CV): 0.7773\n",
            "Test Set RMSE: 73.3539\n",
            "Test Set R² : 0.9957\n",
            "Best Hyperparameters: {'learning_rate': 0.1, 'max_depth': 5, 'max_features': 'sqrt', 'min_samples_leaf': 2, 'min_samples_split': 5, 'n_estimators': 200, 'subsample': 0.8}\n",
            "--------------------------------------------------\n",
            "Species: Acacia mellifera\n",
            "Mean RMSE (5-Fold CV): 364.0853\n",
            "Mean R² (5-Fold CV): 0.7631\n",
            "Test Set RMSE: 122.5123\n",
            "Test Set R² : 0.6726\n",
            "Best Hyperparameters: {'learning_rate': 0.1, 'max_depth': 3, 'max_features': 'sqrt', 'min_samples_leaf': 1, 'min_samples_split': 5, 'n_estimators': 200, 'subsample': 1.0}\n",
            "--------------------------------------------------\n",
            "Species: Acacia nilotica\n",
            "Mean RMSE (5-Fold CV): 222.8153\n",
            "Mean R² (5-Fold CV): 0.9275\n",
            "Test Set RMSE: 21.6284\n",
            "Test Set R² : 0.9852\n",
            "Best Hyperparameters: {'learning_rate': 0.1, 'max_depth': 3, 'max_features': 'sqrt', 'min_samples_leaf': 1, 'min_samples_split': 2, 'n_estimators': 200, 'subsample': 1.0}\n",
            "--------------------------------------------------\n",
            "Species: Acacia tortilis\n",
            "Mean RMSE (5-Fold CV): 631.3443\n",
            "Mean R² (5-Fold CV): 0.9376\n",
            "Test Set RMSE: 165.1341\n",
            "Test Set R² : 0.9857\n",
            "Best Hyperparameters: {'learning_rate': 0.1, 'max_depth': 3, 'max_features': 'sqrt', 'min_samples_leaf': 1, 'min_samples_split': 2, 'n_estimators': 200, 'subsample': 0.8}\n",
            "--------------------------------------------------\n",
            "Species: Acacia xanthophloea\n",
            "Mean RMSE (5-Fold CV): 713.8854\n",
            "Mean R² (5-Fold CV): 0.9623\n",
            "Test Set RMSE: 1830.3184\n",
            "Test Set R² : 0.6980\n",
            "Best Hyperparameters: {'learning_rate': 0.1, 'max_depth': 5, 'max_features': 'sqrt', 'min_samples_leaf': 1, 'min_samples_split': 2, 'n_estimators': 200, 'subsample': 0.8}\n",
            "--------------------------------------------------\n",
            "5-fold cross-validation complete and predictions added.\n"
          ]
        }
      ]
    },
    {
      "cell_type": "markdown",
      "source": [
        "## Extreme Gradient Boosting (XGB)<br>\n"
      ],
      "metadata": {
        "id": "IXXvhGAag-le"
      },
      "id": "IXXvhGAag-le"
    },
    {
      "cell_type": "code",
      "source": [
        "import numpy as np\n",
        "import pandas as pd\n",
        "from sklearn.model_selection import train_test_split, GridSearchCV, cross_val_score\n",
        "from xgboost import XGBRegressor\n",
        "from sklearn.base import BaseEstimator, RegressorMixin\n",
        "from sklearn.metrics import mean_squared_error, r2_score\n",
        "\n",
        "# Custom wrapper for XGBRegressor to comply with Scikit-learn API\n",
        "class SklearnCompatibleXGBRegressor(BaseEstimator, RegressorMixin):\n",
        "    def __init__(self, **kwargs):\n",
        "        if \"random_state\" not in kwargs:\n",
        "            kwargs[\"random_state\"] = 42\n",
        "        self.model = XGBRegressor(**kwargs)\n",
        "\n",
        "    def fit(self, X, y):\n",
        "        self.model.fit(X, y)\n",
        "        return self\n",
        "\n",
        "    def predict(self, X):\n",
        "        return self.model.predict(X)\n",
        "\n",
        "    def get_params(self, deep=True):\n",
        "        return self.model.get_params(deep)\n",
        "\n",
        "    def set_params(self, **params):\n",
        "        self.model.set_params(**params)\n",
        "        return self\n",
        "\n",
        "# Function to perform hyperparameter tuning with 5-fold cross-validation\n",
        "def tune_xgboost(X_train, y_train):\n",
        "    param_grid = {\n",
        "        \"n_estimators\": [100, 200],\n",
        "        \"learning_rate\": [0.01, 0.1],\n",
        "        \"max_depth\": [3, 5],\n",
        "        \"subsample\": [0.8, 1.0],\n",
        "        \"colsample_bytree\": [0.8, 1.0],\n",
        "        \"reg_alpha\": [0, 0.1],\n",
        "        \"reg_lambda\": [0, 0.1]\n",
        "    }\n",
        "\n",
        "    grid_search = GridSearchCV(\n",
        "        SklearnCompatibleXGBRegressor(),\n",
        "        param_grid,\n",
        "        cv=5,\n",
        "        scoring=\"neg_mean_squared_error\",\n",
        "        n_jobs=-1\n",
        "    )\n",
        "\n",
        "    grid_search.fit(X_train, y_train)\n",
        "    return grid_search.best_estimator_, grid_search.best_params_\n",
        "\n",
        "\n",
        "for species, group in acacia_df_cleaned_agb.groupby('genus_species'):\n",
        "    X = group[['dbh', 'height_m']]\n",
        "    y = group['AGB']\n",
        "\n",
        "    # Split data into 80% training and 20% test\n",
        "    X_train, X_test, y_train, y_test = train_test_split(X, y, test_size=0.2, random_state=42)\n",
        "\n",
        "    # Tune and train XGBoost using the training dataset\n",
        "    xgb_model, xgb_params = tune_xgboost(X_train, y_train)\n",
        "\n",
        "    # Evaluate with 5-fold cross-validation using the training set\n",
        "    rmse_scores = np.sqrt(-cross_val_score(xgb_model, X_train, y_train, cv=5, scoring=\"neg_mean_squared_error\"))\n",
        "    r2_scores = cross_val_score(xgb_model, X_train, y_train, cv=5, scoring=\"r2\")\n",
        "\n",
        "    # Compute mean RMSE and R²\n",
        "    mean_rmse = np.mean(rmse_scores)\n",
        "    mean_r2 = np.mean(r2_scores)\n",
        "\n",
        "    # Compute test performance\n",
        "    y_pred = xgb_model.predict(X_test)\n",
        "    test_rmse = np.sqrt(mean_squared_error(y_test, y_pred))\n",
        "    test_r2 = r2_score(y_test, y_pred)\n",
        "\n",
        "    # Print evaluation results\n",
        "    print(f\"Species: {species}\")\n",
        "    print(f\"Mean RMSE (5-Fold CV): {mean_rmse:.4f}\")\n",
        "    print(f\"Mean R² (5-Fold CV): {mean_r2:.4f}\")\n",
        "    print(f\"Test RMSE: {test_rmse:.4f}\")\n",
        "    print(f\"Test R² : {test_r2:.4f}\")\n",
        "    print(f\"Best Hyperparameters: {xgb_params}\")\n",
        "    print(\"-\" * 50)\n",
        "\n",
        "    # Make predictions for the entire group and store in dataframe\n",
        "    acacia_df_cleaned_agb.loc[group.index, 'AGB_XGBoost'] = xgb_model.predict(X)\n",
        "\n",
        "print(\"5-fold cross-validation complete. Results displayed.\")\n"
      ],
      "metadata": {
        "colab": {
          "base_uri": "https://localhost:8080/"
        },
        "id": "-VwEbBlDuCBU",
        "outputId": "99752e0b-3c0d-47fe-852f-4b87517913d3"
      },
      "id": "-VwEbBlDuCBU",
      "execution_count": null,
      "outputs": [
        {
          "output_type": "stream",
          "name": "stdout",
          "text": [
            "Species: Acacia drepanolobium\n",
            "Mean RMSE (5-Fold CV): 153.3978\n",
            "Mean R² (5-Fold CV): 0.7784\n",
            "Test RMSE: 39.9248\n",
            "Test R² : 0.9756\n",
            "Best Hyperparameters: {'colsample_bytree': 1.0, 'learning_rate': 0.1, 'max_depth': 3, 'n_estimators': 100, 'reg_alpha': 0.1, 'reg_lambda': 0.1, 'subsample': 0.8}\n",
            "--------------------------------------------------\n",
            "Species: Acacia mearnsii\n",
            "Mean RMSE (5-Fold CV): 648.1393\n",
            "Mean R² (5-Fold CV): 0.8343\n",
            "Test RMSE: 199.9691\n",
            "Test R² : 0.9683\n",
            "Best Hyperparameters: {'colsample_bytree': 1.0, 'learning_rate': 0.1, 'max_depth': 3, 'n_estimators': 200, 'reg_alpha': 0, 'reg_lambda': 0.1, 'subsample': 0.8}\n",
            "--------------------------------------------------\n",
            "Species: Acacia mellifera\n",
            "Mean RMSE (5-Fold CV): 325.4944\n",
            "Mean R² (5-Fold CV): 0.8057\n",
            "Test RMSE: 97.1366\n",
            "Test R² : 0.7942\n",
            "Best Hyperparameters: {'colsample_bytree': 1.0, 'learning_rate': 0.1, 'max_depth': 3, 'n_estimators': 200, 'reg_alpha': 0, 'reg_lambda': 0, 'subsample': 0.8}\n",
            "--------------------------------------------------\n",
            "Species: Acacia nilotica\n",
            "Mean RMSE (5-Fold CV): 296.5553\n",
            "Mean R² (5-Fold CV): 0.8944\n",
            "Test RMSE: 18.1412\n",
            "Test R² : 0.9896\n",
            "Best Hyperparameters: {'colsample_bytree': 1.0, 'learning_rate': 0.1, 'max_depth': 3, 'n_estimators': 200, 'reg_alpha': 0.1, 'reg_lambda': 0, 'subsample': 0.8}\n",
            "--------------------------------------------------\n",
            "Species: Acacia tortilis\n",
            "Mean RMSE (5-Fold CV): 829.0231\n",
            "Mean R² (5-Fold CV): 0.8832\n",
            "Test RMSE: 116.0813\n",
            "Test R² : 0.9930\n",
            "Best Hyperparameters: {'colsample_bytree': 1.0, 'learning_rate': 0.1, 'max_depth': 3, 'n_estimators': 200, 'reg_alpha': 0, 'reg_lambda': 0, 'subsample': 0.8}\n",
            "--------------------------------------------------\n",
            "Species: Acacia xanthophloea\n",
            "Mean RMSE (5-Fold CV): 601.2590\n",
            "Mean R² (5-Fold CV): 0.9752\n",
            "Test RMSE: 2670.4226\n",
            "Test R² : 0.3571\n",
            "Best Hyperparameters: {'colsample_bytree': 1.0, 'learning_rate': 0.1, 'max_depth': 3, 'n_estimators': 200, 'reg_alpha': 0, 'reg_lambda': 0, 'subsample': 0.8}\n",
            "--------------------------------------------------\n",
            "5-fold cross-validation complete. Results displayed.\n"
          ]
        }
      ]
    },
    {
      "cell_type": "markdown",
      "source": [
        "## Support Vector Machine <br>"
      ],
      "metadata": {
        "id": "Tk0SqBRYnYuH"
      },
      "id": "Tk0SqBRYnYuH"
    },
    {
      "cell_type": "markdown",
      "source": [
        "New code"
      ],
      "metadata": {
        "id": "zWHGryUWlpc1"
      },
      "id": "zWHGryUWlpc1"
    },
    {
      "cell_type": "code",
      "source": [
        "import numpy as np\n",
        "import pandas as pd\n",
        "import json\n",
        "from sklearn.model_selection import train_test_split, GridSearchCV, cross_val_score\n",
        "from sklearn.svm import SVR\n",
        "from sklearn.metrics import mean_squared_error, r2_score\n",
        "\n",
        "# Function to perform hyperparameter tuning with 5-fold cross-validation\n",
        "def tune_svm(X_train, y_train):\n",
        "    param_grid = {\n",
        "        \"C\": [0.1, 1, 10],\n",
        "        \"epsilon\": [0.01, 0.1, 0.2, 0.5, 1],\n",
        "        \"kernel\": [\"linear\", \"rbf\"]\n",
        "    }\n",
        "\n",
        "    grid_search = GridSearchCV(\n",
        "        SVR(),\n",
        "        param_grid,\n",
        "        cv=5,\n",
        "        scoring=\"neg_mean_squared_error\",\n",
        "        n_jobs=-1\n",
        "    )\n",
        "\n",
        "    grid_search.fit(X_train, y_train)\n",
        "    return grid_search.best_estimator_, grid_search.best_params_\n",
        "\n",
        "# Loop through each species\n",
        "for species, group in acacia_df_cleaned_agb.groupby('genus_species'):\n",
        "    X = group[['dbh', 'height_m']]\n",
        "    y = group['AGB']\n",
        "\n",
        "    # Split into 80% train and 20% test\n",
        "    X_train, X_test, y_train, y_test = train_test_split(X, y, test_size=0.2, random_state=42)\n",
        "\n",
        "    # Tune and train SVM using the training dataset\n",
        "    svm_model, svm_params = tune_svm(X_train, y_train)\n",
        "\n",
        "    # Evaluate with 5-fold cross-validation\n",
        "    rmse_scores = np.sqrt(-cross_val_score(svm_model, X_train, y_train, cv=5, scoring=\"neg_mean_squared_error\"))\n",
        "    r2_scores = cross_val_score(svm_model, X_train, y_train, cv=5, scoring=\"r2\")\n",
        "\n",
        "    # Compute mean RMSE and R²\n",
        "    mean_rmse = np.mean(rmse_scores)\n",
        "    mean_r2 = np.mean(r2_scores)\n",
        "\n",
        "    # Predict on the test set\n",
        "    y_pred_test = svm_model.predict(X_test)\n",
        "    test_rmse = np.sqrt(mean_squared_error(y_test, y_pred_test))\n",
        "    test_r2 = r2_score(y_test, y_pred_test)\n",
        "\n",
        "    # Print evaluation results\n",
        "    print(f\"Species: {species}\")\n",
        "    print(f\"Mean RMSE (5-Fold CV): {mean_rmse:.4f}\")\n",
        "    print(f\"Mean R² (5-Fold CV): {mean_r2:.4f}\")\n",
        "    print(f\"Test RMSE: {test_rmse:.4f}\")\n",
        "    print(f\"Test R²: {test_r2:.4f}\")\n",
        "    print(f\"Best Hyperparameters: {svm_params}\")\n",
        "    print(\"-\" * 50)\n",
        "\n",
        "    # Store predictions in the dataframe\n",
        "    acacia_df_cleaned_agb.loc[group.index, 'AGB_SVM'] = svm_model.predict(X)\n",
        "\n",
        "print(\"5-fold cross-validation complete. Results displayed.\")\n",
        "\n"
      ],
      "metadata": {
        "colab": {
          "base_uri": "https://localhost:8080/"
        },
        "id": "CqWRWoHWlrho",
        "outputId": "2c5ad832-8afa-4feb-9580-94531ef29069"
      },
      "id": "CqWRWoHWlrho",
      "execution_count": null,
      "outputs": [
        {
          "output_type": "stream",
          "name": "stdout",
          "text": [
            "Species: Acacia drepanolobium\n",
            "Mean RMSE (5-Fold CV): 215.7396\n",
            "Mean R² (5-Fold CV): 0.6200\n",
            "Test RMSE: 111.8357\n",
            "Test R²: 0.8087\n",
            "Best Hyperparameters: {'C': 10, 'epsilon': 0.01, 'kernel': 'linear'}\n",
            "--------------------------------------------------\n",
            "Species: Acacia mearnsii\n",
            "Mean RMSE (5-Fold CV): 849.2291\n",
            "Mean R² (5-Fold CV): 0.6805\n",
            "Test RMSE: 466.8515\n",
            "Test R²: 0.8272\n",
            "Best Hyperparameters: {'C': 10, 'epsilon': 0.5, 'kernel': 'linear'}\n",
            "--------------------------------------------------\n",
            "Species: Acacia mellifera\n",
            "Mean RMSE (5-Fold CV): 344.9899\n",
            "Mean R² (5-Fold CV): 0.7721\n",
            "Test RMSE: 225.4818\n",
            "Test R²: -0.1092\n",
            "Best Hyperparameters: {'C': 10, 'epsilon': 0.2, 'kernel': 'linear'}\n",
            "--------------------------------------------------\n",
            "Species: Acacia nilotica\n",
            "Mean RMSE (5-Fold CV): 588.3868\n",
            "Mean R² (5-Fold CV): 0.5469\n",
            "Test RMSE: 81.3010\n",
            "Test R²: 0.7909\n",
            "Best Hyperparameters: {'C': 10, 'epsilon': 0.2, 'kernel': 'linear'}\n",
            "--------------------------------------------------\n",
            "Species: Acacia tortilis\n",
            "Mean RMSE (5-Fold CV): 1694.5528\n",
            "Mean R² (5-Fold CV): 0.5700\n",
            "Test RMSE: 748.7105\n",
            "Test R²: 0.7068\n",
            "Best Hyperparameters: {'C': 10, 'epsilon': 0.01, 'kernel': 'linear'}\n",
            "--------------------------------------------------\n",
            "Species: Acacia xanthophloea\n",
            "Mean RMSE (5-Fold CV): 1695.9425\n",
            "Mean R² (5-Fold CV): 0.8065\n",
            "Test RMSE: 1774.6231\n",
            "Test R²: 0.7161\n",
            "Best Hyperparameters: {'C': 10, 'epsilon': 1, 'kernel': 'linear'}\n",
            "--------------------------------------------------\n",
            "5-fold cross-validation complete. Results displayed.\n"
          ]
        }
      ]
    },
    {
      "cell_type": "markdown",
      "source": [
        "#Extraction of features from remote sensing imagery"
      ],
      "metadata": {
        "id": "3nNOWpfmfA8N"
      },
      "id": "3nNOWpfmfA8N"
    },
    {
      "cell_type": "code",
      "source": [],
      "metadata": {
        "id": "bFCTNeTJpd6g"
      },
      "id": "bFCTNeTJpd6g",
      "execution_count": null,
      "outputs": []
    }
  ],
  "metadata": {
    "kernelspec": {
      "display_name": "Python 3",
      "name": "python3"
    },
    "language_info": {
      "codemirror_mode": {
        "name": "ipython",
        "version": 3
      },
      "file_extension": ".py",
      "mimetype": "text/x-python",
      "name": "python",
      "nbconvert_exporter": "python",
      "pygments_lexer": "ipython3",
      "version": "3.10.9"
    },
    "colab": {
      "provenance": [],
      "include_colab_link": true
    }
  },
  "nbformat": 4,
  "nbformat_minor": 5
}